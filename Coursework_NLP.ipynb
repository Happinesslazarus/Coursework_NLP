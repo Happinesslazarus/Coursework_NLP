{
 "cells": [
  {
   "cell_type": "markdown",
   "id": "6c8e380f",
   "metadata": {},
   "source": [
    "## Comparative Evaluation of NLP Models for Biomedical Text Classification\n",
    "\n",
    "**Author:** Happiness Ada Lazarus  \n",
    "**Programme:** BSc (Hons) Computer Science  \n",
    "**Subject:** Natural Language Processing  \n",
    "**Dataset:** [PubMed 200k RCT](https://huggingface.co/datasets/pubmed_200k_rct) (Hugging Face Repository)"
   ]
  },
  {
   "cell_type": "markdown",
   "id": "0e85b678",
   "metadata": {},
   "source": [
    "## Section 1.0 Introduction (200 Words)\n",
    "\n",
    "Natural Language Processing (NLP) is a transformative area of Artificial Intelligence that enables computers to interpret, represent, and generate human language. Within the biomedical domain, NLP plays a crucial role in extracting meaningful information from the vast volume of scientific texts, including clinical notes, research papers, and abstracts.\n",
    "\n",
    "The exponential growth of biomedical literature poses a significant challenge for researchers and clinicians. With over one million new articles added to PubMed each year, manually identifying relevant information from abstracts has become increasingly inefficient, creating bottlenecks in evidence synthesis and clinical decision-making.\n",
    "\n",
    "This project addresses this issue by developing automated NLP pipelines for sentence classification in biomedical abstracts. The task involves categorising sentences from Randomised Controlled Trial (RCT) abstracts into five rhetorical roles — Background, Objective, Methods, Results, and Conclusions — reflecting the IMRaD (Introduction, Methods, Results, and Discussion) structure common in scientific writing.\n",
    "\n",
    "Using the PubMed 200k RCT dataset, which contains over 2.3 million labelled sentences from 200,000 abstracts, this study performs a comparative evaluation of two NLP pipelines: one using classical machine learning models with feature engineering, and another leveraging transformer-based language models. The goal is to determine the most effective approach for biomedical discourse classification.\n"
   ]
  },
  {
   "cell_type": "markdown",
   "id": "0db959d6",
   "metadata": {},
   "source": []
  },
  {
   "cell_type": "code",
   "execution_count": null,
   "id": "9699578f",
   "metadata": {},
   "outputs": [],
   "source": [
    "%pip install  scikit-learn"
   ]
  },
  {
   "cell_type": "code",
   "execution_count": null,
   "id": "452ea435",
   "metadata": {},
   "outputs": [],
   "source": [
    "%pip install  gensim\n"
   ]
  },
  {
   "cell_type": "code",
   "execution_count": null,
   "id": "c70d3bf4",
   "metadata": {},
   "outputs": [],
   "source": [
    "%pip install sentence-transformers"
   ]
  },
  {
   "cell_type": "code",
   "execution_count": null,
   "id": "3e80092f",
   "metadata": {},
   "outputs": [],
   "source": [
    "%pip install  nltk torch"
   ]
  },
  {
   "cell_type": "code",
   "execution_count": null,
   "id": "79a3887d",
   "metadata": {},
   "outputs": [],
   "source": [
    "%pip install wordcloud"
   ]
  },
  {
   "cell_type": "code",
   "execution_count": null,
   "id": "57bf7789",
   "metadata": {},
   "outputs": [],
   "source": [
    "%pip install tabulate"
   ]
  },
  {
   "cell_type": "code",
   "execution_count": null,
   "id": "bf7c57d2",
   "metadata": {},
   "outputs": [],
   "source": [
    "%pip install pandas tabulate matplotlib seaborn\n",
    "# For the most interactive display, you might also install:\n",
    "# !pip install itables"
   ]
  }
 ],
 "metadata": {
  "kernelspec": {
   "display_name": "Python 3",
   "language": "python",
   "name": "python3"
  },
  "language_info": {
   "codemirror_mode": {
    "name": "ipython",
    "version": 3
   },
   "file_extension": ".py",
   "mimetype": "text/x-python",
   "name": "python",
   "nbconvert_exporter": "python",
   "pygments_lexer": "ipython3",
   "version": "3.10.11"
  }
 },
 "nbformat": 4,
 "nbformat_minor": 5
}
