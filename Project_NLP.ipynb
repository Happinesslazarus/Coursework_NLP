{
 "cells": [
  {
   "cell_type": "markdown",
   "id": "9bc5e2d0",
   "metadata": {},
   "source": [
    "## Comparative Evaluation of NLP Models for Biomedical Text Classification\n",
    "\n",
    "**Author:** Happiness Ada Lazarus  \n",
    "**Student ID:** 2238282  \n",
    "**Programme:** BSc (Hons) Computer Science  \n",
    "**Subject:** Natural Language Processing  \n",
    "**Dataset:** PubMed 200k RCT  \n",
    "**Date:** 15 November 2025  "
   ]
  },
  {
   "cell_type": "markdown",
   "id": "60b587ef",
   "metadata": {},
   "source": [
    "## Section 1.0 Introduction (200 Words)\n",
    "\n",
    "Natural Language Processing (NLP) is a transformative area of Artificial Intelligence that enables computers to interpret, represent, and generate human language. Within the biomedical domain, NLP plays a crucial role in extracting meaningful information from the vast volume of scientific texts, including clinical notes, research papers, and abstracts.\n",
    "\n",
    "The exponential growth of biomedical literature poses a significant challenge for researchers and clinicians. With over one million new articles added to PubMed each year, manually identifying relevant information from abstracts has become increasingly inefficient, creating bottlenecks in evidence synthesis and clinical decision-making.\n",
    "\n",
    "This project addresses this issue by developing automated NLP pipelines for sentence classification in biomedical abstracts. The task involves categorising sentences from Randomised Controlled Trial (RCT) abstracts into five rhetorical roles — Background, Objective, Methods, Results, and Conclusions — reflecting the IMRaD (Introduction, Methods, Results, and Discussion) structure common in scientific writing.\n",
    "\n",
    "Using the PubMed 200k RCT dataset, which contains over 2.3 million labelled sentences from 200,000 abstracts, this study performs a comparative evaluation of two NLP pipelines: one using classical machine learning models with feature engineering, and another leveraging transformer-based language models. The goal is to determine the most effective approach for biomedical discourse classification.\n"
   ]
  },
  {
   "cell_type": "code",
   "execution_count": null,
   "id": "82da42cf",
   "metadata": {},
   "outputs": [],
   "source": [
    "\n",
    "# === Install Required Libraries (Quiet Mode) ===\n",
    "%pip install -q optuna\n",
    "%pip install -q xgboost\n",
    "%pip install -q statsmodels\n",
    "%pip install -q scikit-learn\n",
    "%pip install -q gensim\n",
    "%pip install -q sentence-transformers\n",
    "%pip install -q nltk torch\n",
    "%pip install -q wordcloud\n",
    "%pip install -q tabulate\n",
    "%pip install -q pandas matplotlib seaborn\n",
    "print(\" All required libraries installed.\")\n",
    "\n",
    "\n",
    "'''\n",
    "Before running this notebook, ensure that all required libraries are installed.  \n",
    "These libraries cover data manipulation, visualisation, natural language processing, and machine learning for model development and evaluation.\n",
    "'''"
   ]
  },
  {
   "cell_type": "markdown",
   "id": "470952c0",
   "metadata": {},
   "source": []
  }
 ],
 "metadata": {
  "kernelspec": {
   "display_name": "Python 3",
   "language": "python",
   "name": "python3"
  },
  "language_info": {
   "codemirror_mode": {
    "name": "ipython",
    "version": 3
   },
   "file_extension": ".py",
   "mimetype": "text/x-python",
   "name": "python",
   "nbconvert_exporter": "python",
   "pygments_lexer": "ipython3",
   "version": "3.10.11"
  }
 },
 "nbformat": 4,
 "nbformat_minor": 5
}
